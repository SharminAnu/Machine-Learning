{
 "cells": [
  {
   "cell_type": "code",
   "execution_count": 25,
   "id": "1f280b6b",
   "metadata": {},
   "outputs": [],
   "source": [
    "# Import necessary libraries\n",
    "import pandas as pd\n",
    "import numpy as np\n",
    "import matplotlib.pyplot as plt\n",
    "from sklearn.model_selection import train_test_split\n",
    "from sklearn.linear_model import LinearRegression"
   ]
  },
  {
   "cell_type": "code",
   "execution_count": 26,
   "id": "cb35bedd",
   "metadata": {},
   "outputs": [],
   "source": [
    "#load dataset and remove unwanted column\n",
    "df = pd.read_csv('/home/ssultana/ML Class/.ipynb_checkpoints/housing.csv')\n",
    "df.drop (['Unnamed: 0'], axis=1, inplace = True)"
   ]
  },
  {
   "cell_type": "code",
   "execution_count": 27,
   "id": "11f52807",
   "metadata": {},
   "outputs": [],
   "source": [
    "#Separate independent features and target\n",
    "X = df.drop(['medv'], axis=1)\n",
    "y = df['medv']"
   ]
  },
  {
   "cell_type": "code",
   "execution_count": 28,
   "id": "7cd0ea66",
   "metadata": {},
   "outputs": [],
   "source": [
    "#Split the dataset into 80:20 ratio\n",
    "x_train, x_test, y_train, y_test = train_test_split (X, y, test_size=0.2, random_state=0)"
   ]
  },
  {
   "cell_type": "code",
   "execution_count": 29,
   "id": "0fb4f214",
   "metadata": {},
   "outputs": [
    {
     "data": {
      "text/plain": [
       "LinearRegression()"
      ]
     },
     "execution_count": 29,
     "metadata": {},
     "output_type": "execute_result"
    }
   ],
   "source": [
    "#Create model and fit it with training dataset\n",
    "model = LinearRegression ()\n",
    "model.fit (x_train, y_train)"
   ]
  },
  {
   "cell_type": "code",
   "execution_count": 30,
   "id": "d784d23b",
   "metadata": {},
   "outputs": [
    {
     "name": "stdout",
     "output_type": "stream",
     "text": [
      "Slope =  [-1.16530283e-01  8.05236516e-02 -7.37965959e-02  3.09472360e+00\n",
      " -6.79859508e+00  4.09752674e+00 -5.85764956e-03 -1.60277921e+00\n",
      "  1.23420304e-01 -1.32770089e-02 -5.46758402e-01]\n",
      "\n",
      "Y_intercept =  18.20299859220848\n",
      "\n",
      "R^2 Score =  0.7359157332407895\n"
     ]
    }
   ],
   "source": [
    "#Report the intercept, slope, and R^2 values of the model\n",
    "print (\"Slope = \", model.coef_)\n",
    "print (\"\\nY_intercept = \", model.intercept_)\n",
    "print (\"\\nR^2 Score = \", model.score(x_train, y_train))"
   ]
  },
  {
   "cell_type": "code",
   "execution_count": null,
   "id": "7d47f76f",
   "metadata": {},
   "outputs": [],
   "source": []
  }
 ],
 "metadata": {
  "kernelspec": {
   "display_name": "Python 3 (ipykernel)",
   "language": "python",
   "name": "python3"
  },
  "language_info": {
   "codemirror_mode": {
    "name": "ipython",
    "version": 3
   },
   "file_extension": ".py",
   "mimetype": "text/x-python",
   "name": "python",
   "nbconvert_exporter": "python",
   "pygments_lexer": "ipython3",
   "version": "3.8.10"
  }
 },
 "nbformat": 4,
 "nbformat_minor": 5
}
