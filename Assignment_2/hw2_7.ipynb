{
 "cells": [
  {
   "cell_type": "code",
   "execution_count": 1,
   "metadata": {},
   "outputs": [
    {
     "name": "stderr",
     "output_type": "stream",
     "text": [
      "2023-04-10 11:03:52.105445: W tensorflow/compiler/tf2tensorrt/utils/py_utils.cc:38] TF-TRT Warning: Could not find TensorRT\n"
     ]
    },
    {
     "name": "stdout",
     "output_type": "stream",
     "text": [
      "Found 14 images belonging to 2 classes.\n",
      "Found 7 images belonging to 4 classes.\n",
      "Found 4 images belonging to 2 classes.\n"
     ]
    }
   ],
   "source": [
    "import os\n",
    "import numpy as np\n",
    "from keras.preprocessing.image import ImageDataGenerator\n",
    "\n",
    "# set path to the dataset folder in Google Drive\n",
    "data_path = 'chihuahua-muffin'\n",
    "\n",
    "# create data generators for training and testing sets\n",
    "train_datagen = ImageDataGenerator(rescale=1./255, shear_range=0.2, zoom_range=0.2, horizontal_flip=True, validation_split=0.2)\n",
    "test_datagen = ImageDataGenerator(rescale=1./255)\n",
    "\n",
    "# set batch size\n",
    "batch_size = 32\n",
    "\n",
    "# generate training set\n",
    "train_set = train_datagen.flow_from_directory(data_path+'/train', target_size=(64, 64), batch_size=batch_size, class_mode='binary', subset='training')\n",
    "\n",
    "# generate validation set\n",
    "val_set = train_datagen.flow_from_directory(data_path, target_size=(64, 64), batch_size=batch_size, class_mode='binary', subset='validation')\n",
    "\n",
    "# generate testing set\n",
    "test_set = test_datagen.flow_from_directory(data_path+'/test', target_size=(64, 64), batch_size=batch_size, class_mode='binary', shuffle=False)"
   ]
  },
  {
   "cell_type": "code",
   "execution_count": 2,
   "metadata": {},
   "outputs": [
    {
     "name": "stderr",
     "output_type": "stream",
     "text": [
      "2023-04-10 11:03:54.038574: W tensorflow/core/common_runtime/gpu/gpu_device.cc:1956] Cannot dlopen some GPU libraries. Please make sure the missing libraries mentioned above are installed properly if you would like to use GPU. Follow the guide at https://www.tensorflow.org/install/gpu for how to download and setup the required libraries for your platform.\n",
      "Skipping registering GPU devices...\n"
     ]
    },
    {
     "name": "stdout",
     "output_type": "stream",
     "text": [
      "Epoch 1/10\n",
      "1/1 [==============================] - 2s 2s/step - loss: 0.7417 - accuracy: 0.5000 - val_loss: -0.1740 - val_accuracy: 0.2857\n",
      "Epoch 2/10\n",
      "1/1 [==============================] - 0s 168ms/step - loss: 0.7986 - accuracy: 0.5714 - val_loss: 0.6437 - val_accuracy: 0.4286\n",
      "Epoch 3/10\n",
      "1/1 [==============================] - 0s 169ms/step - loss: 0.7289 - accuracy: 0.5000 - val_loss: 0.7273 - val_accuracy: 0.4286\n",
      "Epoch 4/10\n",
      "1/1 [==============================] - 0s 166ms/step - loss: 0.7385 - accuracy: 0.4286 - val_loss: 0.5812 - val_accuracy: 0.2857\n",
      "Epoch 5/10\n",
      "1/1 [==============================] - 0s 162ms/step - loss: 0.8213 - accuracy: 0.2857 - val_loss: 0.5200 - val_accuracy: 0.2857\n",
      "Epoch 6/10\n",
      "1/1 [==============================] - 0s 168ms/step - loss: 0.5928 - accuracy: 0.7857 - val_loss: 0.4091 - val_accuracy: 0.2857\n",
      "Epoch 7/10\n",
      "1/1 [==============================] - 0s 164ms/step - loss: 0.6285 - accuracy: 0.5714 - val_loss: 0.4080 - val_accuracy: 0.2857\n",
      "Epoch 8/10\n",
      "1/1 [==============================] - 0s 168ms/step - loss: 0.6093 - accuracy: 0.6429 - val_loss: 0.4219 - val_accuracy: 0.2857\n",
      "Epoch 9/10\n",
      "1/1 [==============================] - 0s 167ms/step - loss: 0.6429 - accuracy: 0.5714 - val_loss: 0.4221 - val_accuracy: 0.2857\n",
      "Epoch 10/10\n",
      "1/1 [==============================] - 0s 165ms/step - loss: 0.6707 - accuracy: 0.6429 - val_loss: 0.5098 - val_accuracy: 0.2857\n"
     ]
    }
   ],
   "source": [
    "from keras.models import Sequential\n",
    "from keras.layers import Conv2D, MaxPooling2D, Flatten, Dense, Dropout\n",
    "\n",
    "# define CNN architecture\n",
    "model = Sequential()\n",
    "model.add(Conv2D(32, (3, 3), input_shape=(64, 64, 3), activation='relu'))\n",
    "model.add(MaxPooling2D(pool_size=(2, 2)))\n",
    "model.add(Conv2D(32, (3, 3), activation='relu'))\n",
    "model.add(MaxPooling2D(pool_size=(2, 2)))\n",
    "model.add(Flatten())\n",
    "model.add(Dense(128, activation='relu'))\n",
    "model.add(Dropout(0.5))\n",
    "model.add(Dense(1, activation='sigmoid'))\n",
    "\n",
    "# compile model\n",
    "model.compile(optimizer='adam', loss='binary_crossentropy', metrics=['accuracy'])\n",
    "\n",
    "# train model\n",
    "history = model.fit(train_set, epochs=10, validation_data=val_set)"
   ]
  },
  {
   "cell_type": "code",
   "execution_count": 3,
   "metadata": {},
   "outputs": [
    {
     "name": "stdout",
     "output_type": "stream",
     "text": [
      "1/1 [==============================] - 0s 77ms/step - loss: 0.6850 - accuracy: 0.5000\n",
      "Test loss: 0.6849626898765564\n",
      "Test accuracy: 0.5\n",
      "1/1 [==============================] - 0s 367ms/step\n",
      "Classification results:\n",
      "chihuahua/chihuahua-4.jpg - muffin\n",
      "chihuahua/chihuahua-8.jpg - muffin\n",
      "muffin/muffin-6.jpeg - muffin\n",
      "muffin/muffin-8.jpeg - muffin\n"
     ]
    }
   ],
   "source": [
    "# evaluate model on testing set\n",
    "score = model.evaluate(test_set)\n",
    "print('Test loss:', score[0])\n",
    "print('Test accuracy:', score[1])\n",
    "\n",
    "# get predictions for testing set\n",
    "predictions = model.predict(test_set)\n",
    "predicted_classes = np.round(predictions)\n",
    "\n",
    "# print classification results\n",
    "print('Classification results:')\n",
    "for i, image in enumerate(test_set.filenames):\n",
    "    print('{} - {}'.format(image, 'chihuahua' if predicted_classes[i] == 0 else 'muffin'))"
   ]
  },
  {
   "cell_type": "code",
   "execution_count": null,
   "metadata": {},
   "outputs": [],
   "source": []
  }
 ],
 "metadata": {
  "kernelspec": {
   "display_name": "mlenv",
   "language": "python",
   "name": "python3"
  },
  "language_info": {
   "codemirror_mode": {
    "name": "ipython",
    "version": 3
   },
   "file_extension": ".py",
   "mimetype": "text/x-python",
   "name": "python",
   "nbconvert_exporter": "python",
   "pygments_lexer": "ipython3",
   "version": "3.11.3"
  },
  "orig_nbformat": 4
 },
 "nbformat": 4,
 "nbformat_minor": 2
}
